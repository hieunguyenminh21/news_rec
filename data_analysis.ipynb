{
 "cells": [
  {
   "cell_type": "code",
   "execution_count": 1,
   "id": "b86a8e46-175a-410e-859f-fb9e9e76d8e6",
   "metadata": {},
   "outputs": [],
   "source": [
    "import pandas as pd\n",
    "import numpy as np"
   ]
  },
  {
   "cell_type": "code",
   "execution_count": 2,
   "id": "5c5dc2fe-4315-4d24-8500-2103f9e063db",
   "metadata": {},
   "outputs": [],
   "source": [
    "from common.utils import PickleReadObjectFromLocalPatient"
   ]
  },
  {
   "cell_type": "code",
   "execution_count": 25,
   "id": "ec389c8c-17c6-4095-959c-03baec267a87",
   "metadata": {},
   "outputs": [],
   "source": [
    "dataset_name = 'soha'\n",
    "dataset_type = 'test'"
   ]
  },
  {
   "cell_type": "code",
   "execution_count": 26,
   "id": "99e2dd4e-ad85-43f6-ab14-5cad4a5aead3",
   "metadata": {},
   "outputs": [],
   "source": [
    "reader = PickleReadObjectFromLocalPatient()\n",
    "behavior = reader.read(file_name=f'./data/version_1/{dataset_name}/{dataset_type}/behaviours.pkl')\n",
    "news = reader.read(file_name=f'./data/version_1/{dataset_name}/{dataset_type}/post_id_to_info.pkl')"
   ]
  },
  {
   "cell_type": "code",
   "execution_count": 27,
   "id": "b2774ae4-b436-4695-b756-f3a62d336b70",
   "metadata": {},
   "outputs": [
    {
     "data": {
      "text/plain": [
       "50128"
      ]
     },
     "execution_count": 27,
     "metadata": {},
     "output_type": "execute_result"
    }
   ],
   "source": [
    "len(behavior)"
   ]
  },
  {
   "cell_type": "code",
   "execution_count": 28,
   "id": "4bb115f3-0d6c-4a82-abc2-204a582a2ab5",
   "metadata": {},
   "outputs": [
    {
     "data": {
      "text/plain": [
       "dict_keys(['user_id', 'timestamp', 'history', 'positive', 'negative'])"
      ]
     },
     "execution_count": 28,
     "metadata": {},
     "output_type": "execute_result"
    }
   ],
   "source": [
    "behavior[1].keys()"
   ]
  },
  {
   "cell_type": "code",
   "execution_count": 29,
   "id": "1aa844f4-46ca-4ad4-852a-57d8f2bf0340",
   "metadata": {},
   "outputs": [
    {
     "name": "stdout",
     "output_type": "stream",
     "text": [
      "21.522123364187678\n",
      "1.7345196297478456\n",
      "28.265480370252156\n"
     ]
    }
   ],
   "source": [
    "users = []\n",
    "len_pos = []\n",
    "len_neg = []\n",
    "len_hist = []\n",
    "for b in behavior:\n",
    "    users.append(b['user_id'])\n",
    "    len_pos.append(len(b['positive']))\n",
    "    len_neg.append(len(b['negative']))\n",
    "    len_hist.append(len(b['history']))\n",
    "users = list(set(users))\n",
    "print(np.mean(len_hist))\n",
    "print(np.mean(len_pos))\n",
    "print(np.mean(len_neg))"
   ]
  },
  {
   "cell_type": "code",
   "execution_count": 30,
   "id": "c001e465-8e76-49e2-af84-805b96dffa9f",
   "metadata": {},
   "outputs": [
    {
     "data": {
      "text/plain": [
       "39050"
      ]
     },
     "execution_count": 30,
     "metadata": {},
     "output_type": "execute_result"
    }
   ],
   "source": [
    "len(users)"
   ]
  },
  {
   "cell_type": "code",
   "execution_count": 31,
   "id": "c8b64674-bc13-44ac-8d07-d4a2ece2778d",
   "metadata": {
    "tags": []
   },
   "outputs": [
    {
     "data": {
      "text/plain": [
       "dict_keys(['title', 'abstract', 'title_token_ids', 'abstract_token_ids', 'category', 'subcategory', 'subcategory_name', 'category_id', 'subcategory_id', 'title_bert_encode', 'abstract_bert_encode', 'content_bow'])"
      ]
     },
     "execution_count": 31,
     "metadata": {},
     "output_type": "execute_result"
    }
   ],
   "source": [
    "news[1].keys()"
   ]
  },
  {
   "cell_type": "code",
   "execution_count": 32,
   "id": "d54bfe3e-0267-400b-b0a7-632347146b4b",
   "metadata": {},
   "outputs": [
    {
     "name": "stdout",
     "output_type": "stream",
     "text": [
      "16\n",
      "34\n",
      "14.145264898556254\n",
      "28.73948991922661\n",
      "34\n"
     ]
    }
   ],
   "source": [
    "news_list = []\n",
    "cat = []\n",
    "sub_cat = []\n",
    "sub_cat_name = []\n",
    "title_length = []\n",
    "abstract_length = []\n",
    "\n",
    "for i in range(len(news)):\n",
    "    if i != 0:\n",
    "        try:\n",
    "            n = news[i]\n",
    "            news_list.append(n['title'])\n",
    "            cat.append(n['category_id'])\n",
    "            sub_cat.append(n['subcategory_id'])\n",
    "            sub_cat_name.append(n['subcategory_name'])\n",
    "            title_length.append(len(n['title'].split()))\n",
    "            abstract_length.append(len(n['abstract'].split()))\n",
    "        except:\n",
    "            pass\n",
    "\n",
    "# print(cat)\n",
    "news_list = list(set(news_list))\n",
    "print(len(set(cat)))\n",
    "print(len(set(sub_cat)))\n",
    "print(np.mean(title_length))\n",
    "print(np.mean(abstract_length))\n",
    "print(len(set(sub_cat_name)))"
   ]
  },
  {
   "cell_type": "code",
   "execution_count": 33,
   "id": "4338b864-0720-4bc6-8528-aac8fb88dd5d",
   "metadata": {},
   "outputs": [
    {
     "data": {
      "text/plain": [
       "15552"
      ]
     },
     "execution_count": 33,
     "metadata": {},
     "output_type": "execute_result"
    }
   ],
   "source": [
    "len(news_list)"
   ]
  },
  {
   "cell_type": "code",
   "execution_count": 34,
   "id": "49f8bc00-74a9-449b-86a6-6b0de0fe94ba",
   "metadata": {},
   "outputs": [
    {
     "data": {
      "text/plain": [
       "'hai mẹ_con người việt tử_vong do đuối nước tại phuket'"
      ]
     },
     "execution_count": 34,
     "metadata": {},
     "output_type": "execute_result"
    }
   ],
   "source": [
    "news_list[1]"
   ]
  },
  {
   "cell_type": "code",
   "execution_count": 35,
   "id": "1a039565-a248-4b6f-b3ec-b7e2360aa254",
   "metadata": {},
   "outputs": [
    {
     "data": {
      "text/plain": [
       "29500"
      ]
     },
     "execution_count": 35,
     "metadata": {},
     "output_type": "execute_result"
    }
   ],
   "source": [
    "len(news)"
   ]
  }
 ],
 "metadata": {
  "kernelspec": {
   "display_name": "py38",
   "language": "python",
   "name": "py38"
  },
  "language_info": {
   "codemirror_mode": {
    "name": "ipython",
    "version": 3
   },
   "file_extension": ".py",
   "mimetype": "text/x-python",
   "name": "python",
   "nbconvert_exporter": "python",
   "pygments_lexer": "ipython3",
   "version": "3.8.15"
  }
 },
 "nbformat": 4,
 "nbformat_minor": 5
}
