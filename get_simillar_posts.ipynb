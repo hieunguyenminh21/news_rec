{
 "cells": [
  {
   "cell_type": "code",
   "execution_count": 1,
   "id": "af1a349b-7a9c-4aaa-a350-04f4ff0ccc86",
   "metadata": {
    "tags": []
   },
   "outputs": [],
   "source": [
    "import torch\n",
    "import torch.nn as nn\n",
    "import numpy as np\n",
    "import random\n",
    "\n",
    "from tqdm import tqdm\n",
    "from common.utils import PickleReadObjectFromLocalPatient, PickleWriteObjectToLocalPatient"
   ]
  },
  {
   "attachments": {},
   "cell_type": "markdown",
   "id": "ae09de01",
   "metadata": {},
   "source": [
    "Notebook này nhằm mục đích tìm ra các cặp bài viết tương tự của tất cả các bài viết trong tập dữ liệu."
   ]
  },
  {
   "cell_type": "code",
   "execution_count": 2,
   "id": "f67c28a6-d259-421c-8934-5d1721a5e43d",
   "metadata": {},
   "outputs": [],
   "source": [
    "dataset = 'soha'"
   ]
  },
  {
   "cell_type": "code",
   "execution_count": 3,
   "id": "6e899bfa-5d63-49fd-a3b0-ffe81590789f",
   "metadata": {},
   "outputs": [],
   "source": [
    "def load_pretrained_word_embedding():\n",
    "        object_reader = PickleReadObjectFromLocalPatient()\n",
    "        embedding_matrix: np.ndarray = object_reader.read(file_name=f\"./data/version_1/{dataset}/pretrained/title_abstract_word_embedding.pkl\", num_tries=1, wait_time=0.0)\n",
    "        embedding_matrix: Tensor = torch.tensor(embedding_matrix, dtype=torch.float)\n",
    "        word_embedding = nn.Embedding.from_pretrained(embeddings=embedding_matrix, padding_idx=0, freeze=False)\n",
    "        return word_embedding"
   ]
  },
  {
   "cell_type": "code",
   "execution_count": 4,
   "id": "a3cae197-ab30-4395-868d-55243695d695",
   "metadata": {},
   "outputs": [],
   "source": [
    "object_reader = PickleReadObjectFromLocalPatient()\n",
    "word_to_int = object_reader.read(file_name=f'./data/version_1/{dataset}/object_to_int/word_to_int.pkl')"
   ]
  },
  {
   "cell_type": "code",
   "execution_count": 5,
   "id": "22f4c217-9d6c-4d20-b413-3a788ecc1c20",
   "metadata": {},
   "outputs": [],
   "source": [
    "embedding = load_pretrained_word_embedding()"
   ]
  },
  {
   "cell_type": "code",
   "execution_count": 6,
   "id": "9d032e17-c134-4122-9abd-ec5afe5893af",
   "metadata": {},
   "outputs": [],
   "source": [
    "sample = torch.tensor([45, 46])"
   ]
  },
  {
   "cell_type": "code",
   "execution_count": 7,
   "id": "4d6bf3ef-8ff6-40cb-8f04-7560bbffc52c",
   "metadata": {},
   "outputs": [],
   "source": [
    "x, y = embedding(sample)"
   ]
  },
  {
   "cell_type": "code",
   "execution_count": 8,
   "id": "6d104e10-bf51-4cd0-9749-ed69f8d50dd9",
   "metadata": {},
   "outputs": [],
   "source": [
    "cos = nn.CosineSimilarity(dim=0, eps=1e-6)"
   ]
  },
  {
   "cell_type": "code",
   "execution_count": 9,
   "id": "2d04e303-4e53-4994-a787-ff63407194a5",
   "metadata": {},
   "outputs": [
    {
     "data": {
      "text/plain": [
       "tensor(0.1944, grad_fn=<SumBackward1>)"
      ]
     },
     "execution_count": 9,
     "metadata": {},
     "output_type": "execute_result"
    }
   ],
   "source": [
    "cos(x, y)"
   ]
  },
  {
   "cell_type": "code",
   "execution_count": 21,
   "id": "15039807-0874-4b9d-8b36-c84c1fd6a818",
   "metadata": {},
   "outputs": [],
   "source": [
    "postid_to_info = object_reader.read(file_name=f'./data/version_1/{dataset}/train/post_id_to_info.pkl')"
   ]
  },
  {
   "cell_type": "code",
   "execution_count": 23,
   "id": "1fda2a73-3922-43df-b71f-2dfaa5d9e4ca",
   "metadata": {},
   "outputs": [],
   "source": [
    "def find_max_similarity(vector_indices, vectors):\n",
    "    # sim_matrix = np.zeros((max(vector_indices) + 1, max(vector_indices) + 1))\n",
    "    sim_dict = {}\n",
    "    print('done sim matrix')\n",
    "    for i in tqdm(vector_indices):\n",
    "        max_sim = 0\n",
    "        for j in random.sample(vector_indices, 100):\n",
    "            if i != j:\n",
    "                sim = cos(torch.tensor(vectors[i]), torch.tensor(vectors[j]))\n",
    "                if sim > max_sim:\n",
    "                    max_sim = sim\n",
    "        sim_dict[i] = j\n",
    "    return sim_dict"
   ]
  },
  {
   "cell_type": "code",
   "execution_count": 24,
   "id": "22d882f6-a5a6-44a2-9b3b-8fc1c36fa512",
   "metadata": {},
   "outputs": [],
   "source": [
    "vector_indices = list(postid_to_info.keys())"
   ]
  },
  {
   "cell_type": "code",
   "execution_count": 25,
   "id": "388da763-1c61-42fa-ae83-5c798c8a0da4",
   "metadata": {},
   "outputs": [],
   "source": [
    "vectors = np.zeros((max(vector_indices) + 1, 768))"
   ]
  },
  {
   "cell_type": "code",
   "execution_count": 26,
   "id": "c17a9c24-39fd-4993-b29e-89e3c8bf846e",
   "metadata": {},
   "outputs": [
    {
     "name": "stderr",
     "output_type": "stream",
     "text": [
      "100%|████████████████████████████████████████████████████████████████████████████| 49139/49139 [00:00<00:00, 182124.16it/s]\n"
     ]
    }
   ],
   "source": [
    "for idx in tqdm(vector_indices):\n",
    "    vectors[idx] = postid_to_info[idx]['title_bert_encode']"
   ]
  },
  {
   "cell_type": "code",
   "execution_count": 27,
   "id": "64ed59f8-3c58-406f-b798-e8c6749bcd8d",
   "metadata": {},
   "outputs": [
    {
     "name": "stdout",
     "output_type": "stream",
     "text": [
      "done sim matrix\n"
     ]
    },
    {
     "name": "stderr",
     "output_type": "stream",
     "text": [
      "100%|███████████████████████████████████████████████████████████████████████████████| 49139/49139 [05:08<00:00, 159.19it/s]\n"
     ]
    }
   ],
   "source": [
    "sim_dict = find_max_similarity(vector_indices, vectors)"
   ]
  },
  {
   "cell_type": "code",
   "execution_count": 31,
   "id": "f02ef856-bde2-4a7d-b88a-a99c7ff7a53a",
   "metadata": {},
   "outputs": [],
   "source": [
    "object_writer = PickleWriteObjectToLocalPatient()"
   ]
  },
  {
   "cell_type": "code",
   "execution_count": 32,
   "id": "50f34a32-1172-495c-badd-aed9d896c19d",
   "metadata": {},
   "outputs": [
    {
     "data": {
      "text/plain": [
       "True"
      ]
     },
     "execution_count": 32,
     "metadata": {},
     "output_type": "execute_result"
    }
   ],
   "source": [
    "object_writer.write(sim_dict, f'./data/version_1/{dataset}/train/item_to_similar_item.pkl')"
   ]
  },
  {
   "cell_type": "code",
   "execution_count": 33,
   "id": "087aa385-0659-4c2c-b986-67b2a2fd254f",
   "metadata": {},
   "outputs": [
    {
     "data": {
      "text/plain": [
       "dict"
      ]
     },
     "execution_count": 33,
     "metadata": {},
     "output_type": "execute_result"
    }
   ],
   "source": [
    "type(sim_dict)"
   ]
  }
 ],
 "metadata": {
  "kernelspec": {
   "display_name": "py38",
   "language": "python",
   "name": "py38"
  },
  "language_info": {
   "codemirror_mode": {
    "name": "ipython",
    "version": 3
   },
   "file_extension": ".py",
   "mimetype": "text/x-python",
   "name": "python",
   "nbconvert_exporter": "python",
   "pygments_lexer": "ipython3",
   "version": "3.8.15"
  }
 },
 "nbformat": 4,
 "nbformat_minor": 5
}
