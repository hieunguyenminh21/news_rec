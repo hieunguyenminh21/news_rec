{
 "cells": [
  {
   "cell_type": "code",
   "execution_count": 1,
   "id": "32661b63",
   "metadata": {
    "tags": []
   },
   "outputs": [],
   "source": [
    "import os\n",
    "import json\n",
    "import pandas as pd\n",
    "\n",
    "# Đường dẫn đến thư mục version_1\n",
    "root_dir = './data/version_1/kenh14/log_dir/recommend/new/'\n",
    "\n",
    "# Tạo danh sách chứa thông tin từ các file config.json và test_sum_up.txt\n",
    "data = []\n",
    "all_files = []\n",
    "for subdir, dirs, files in os.walk(root_dir):\n",
    "    for file in files:\n",
    "        # Kiểm tra nếu tên file là config.json hoặc test_sum_up.txt\n",
    "        if file in ['config.json', 'test_sum_up.txt']:\n",
    "            # Đường dẫn đến file\n",
    "            file_path = os.path.join(subdir, file)\n",
    "            # Đọc nội dung file\n",
    "            with open(file_path, 'r') as f:\n",
    "                content = f.read()\n",
    "            # Nếu file là config.json thì parse nội dung json\n",
    "            if file == 'config.json':\n",
    "                content = json.loads(content)\n",
    "            # Thêm thông tin vào danh sách\n",
    "            data.append({\n",
    "                'file_name': file,\n",
    "                'file_path': file_path,\n",
    "                'content': content\n",
    "            })\n",
    "            all_files.append(file_path)\n",
    "\n",
    "# Tạo DataFrame từ danh sách\n",
    "df = pd.DataFrame(data)\n",
    "\n",
    "# Lưu DataFrame vào file csv\n",
    "df.to_csv('output.csv', index=False)"
   ]
  },
  {
   "cell_type": "code",
   "execution_count": 2,
   "id": "dbb266bb-b53a-4ec4-9c65-ca165c992619",
   "metadata": {},
   "outputs": [],
   "source": [
    "all_dirs = ['/'.join(f.split('/')[:-1]) for f in all_files]"
   ]
  },
  {
   "cell_type": "code",
   "execution_count": 3,
   "id": "ec0a5b13-23fe-4341-bb9d-89487328cd4a",
   "metadata": {},
   "outputs": [],
   "source": [
    "all_dirs = list(set(all_dirs))"
   ]
  },
  {
   "cell_type": "code",
   "execution_count": 4,
   "id": "860d73a4-f454-4cd5-8ee9-554a001f0223",
   "metadata": {},
   "outputs": [
    {
     "name": "stdout",
     "output_type": "stream",
     "text": [
      "./data/version_1/kenh14/log_dir/recommend/new/2023_07_08 14_28_26/test_sum_up.txt\n",
      "./data/version_1/kenh14/log_dir/recommend/new/2023_07_06 15_28_22/test_sum_up.txt\n",
      "./data/version_1/kenh14/log_dir/recommend/new/2023_07_08 14_31_41/test_sum_up.txt\n",
      "./data/version_1/kenh14/log_dir/recommend/new/2023_07_08 14_41_23/test_sum_up.txt\n",
      "./data/version_1/kenh14/log_dir/recommend/new/2023_07_08 14_34_50/test_sum_up.txt\n",
      "./data/version_1/kenh14/log_dir/recommend/new/2023_07_08 14_30_37/test_sum_up.txt\n",
      "./data/version_1/kenh14/log_dir/recommend/new/2023_07_08 14_26_43/test_sum_up.txt\n",
      "./data/version_1/kenh14/log_dir/recommend/new/2023_07_08 14_38_12/test_sum_up.txt\n",
      "./data/version_1/kenh14/log_dir/recommend/new/2023_07_07 14_51_07/test_sum_up.txt\n",
      "./data/version_1/kenh14/log_dir/recommend/new/2023_07_07 14_30_16/test_sum_up.txt\n",
      "./data/version_1/kenh14/log_dir/recommend/new/2023_07_08 14_39_35/test_sum_up.txt\n",
      "./data/version_1/kenh14/log_dir/recommend/new/2023_07_07 15_01_44/test_sum_up.txt\n",
      "./data/version_1/kenh14/log_dir/recommend/new/2023_07_08 14_41_54/test_sum_up.txt\n"
     ]
    }
   ],
   "source": [
    "valid_path = []\n",
    "for d in all_dirs:\n",
    "    try:\n",
    "        for f in ['test_sum_up.txt', 'config.json']:\n",
    "            file_path = os.path.join(d, f)\n",
    "            with open(file_path, 'r') as f:\n",
    "                content = f.read()\n",
    "            # Nếu file là config.json thì parse nội dung json\n",
    "            if file == 'config.json':\n",
    "                content = json.loads(content)\n",
    "            valid_path.append(file_path)\n",
    "    except:\n",
    "        print(file_path)"
   ]
  },
  {
   "cell_type": "code",
   "execution_count": 6,
   "id": "67097eca-14cf-4f6d-8fc6-4b42b530bef0",
   "metadata": {},
   "outputs": [],
   "source": [
    "# Tách chuỗi thành các phần tử\n",
    "def process_test_sum_up(content):\n",
    "    result_list = content.split()\n",
    "\n",
    "    # Lọc các phần tử chứa giá trị bạn cần\n",
    "    result_dict = {}\n",
    "    for i in range(len(result_list)-1):\n",
    "        if result_list[i] in ['AUC', 'MRR', 'NDCG@3', 'NDCG@5', 'NDCG@10']:\n",
    "            result_dict[result_list[i]] = result_list[i+1]\n",
    "\n",
    "    # In từ điển kết quả\n",
    "    return result_dict"
   ]
  },
  {
   "cell_type": "code",
   "execution_count": 7,
   "id": "c1efae74-1a39-45da-9a3e-7b9d1768007c",
   "metadata": {},
   "outputs": [
    {
     "data": {
      "text/plain": [
       "'2023_07_09 03_40_07'"
      ]
     },
     "execution_count": 7,
     "metadata": {},
     "output_type": "execute_result"
    }
   ],
   "source": [
    "valid_path[1].split('/')[-2]"
   ]
  },
  {
   "cell_type": "code",
   "execution_count": 8,
   "id": "f6c53aa5-656f-4fbe-a0f1-c4654b76b41b",
   "metadata": {
    "tags": []
   },
   "outputs": [],
   "source": [
    "all_results = []\n",
    "for i in range(0, len(valid_path) - 1, 2):\n",
    "    with open(valid_path[i], 'r') as f:\n",
    "        result = process_test_sum_up(f.read())\n",
    "        result['date'] = valid_path[i].split('/')[-2]\n",
    "        \n",
    "    with open(valid_path[i+1], 'r') as f:\n",
    "        content = f.read()\n",
    "    \n",
    "    configs = json.loads(content)\n",
    "    configs.update(result)\n",
    "    all_results.append(configs)"
   ]
  },
  {
   "cell_type": "code",
   "execution_count": 9,
   "id": "6acd5b92-8011-4c22-9a9b-b09970f6966c",
   "metadata": {},
   "outputs": [
    {
     "data": {
      "text/plain": [
       "192"
      ]
     },
     "execution_count": 9,
     "metadata": {},
     "output_type": "execute_result"
    }
   ],
   "source": [
    "len(valid_path)"
   ]
  },
  {
   "cell_type": "code",
   "execution_count": 10,
   "id": "fda5a5bc",
   "metadata": {},
   "outputs": [],
   "source": [
    "df = pd.DataFrame(all_results, columns=list(configs.keys()))"
   ]
  },
  {
   "cell_type": "code",
   "execution_count": 11,
   "id": "54f60bfb-c770-488b-8030-ae1f27738edf",
   "metadata": {},
   "outputs": [],
   "source": [
    "df = df[df['date'].str.contains('2023', regex=False)]"
   ]
  },
  {
   "cell_type": "code",
   "execution_count": 12,
   "id": "d15b3d91-afdd-47c4-9639-d21516ddcbb4",
   "metadata": {},
   "outputs": [],
   "source": [
    "df = df[df['date'] > '2023_06_00 0_0_0']"
   ]
  },
  {
   "cell_type": "code",
   "execution_count": 13,
   "id": "8527f6ed-1dc6-4620-b7bc-ebe390872b1e",
   "metadata": {},
   "outputs": [
    {
     "data": {
      "text/plain": [
       "Index(['data_dir', 'hidden_dim', 'post_encoder_method',\n",
       "       'additive_attention_query_vector_dim', 'text_encoder_method',\n",
       "       'raw_text_encoder_method', 'raw_text_encoder_cnn_kernel_size',\n",
       "       'raw_text_encoder_fastformer_num_heads',\n",
       "       'raw_text_encoder_multi_head_self_attention_num_heads',\n",
       "       'raw_text_encoder_transformer_num_heads',\n",
       "       'pre_encoded_text_encoder_method', 'text_pre_encoded_dim',\n",
       "       'category_encoder_method', 'category_embedding_dim', 'num_categories',\n",
       "       'user_encoder_method', 'history_user_encoder_method',\n",
       "       'history_user_encoder_fastformer_num_heads',\n",
       "       'history_user_encoder_multi_head_self_attention_num_heads',\n",
       "       'history_user_encoder_transformer_num_heads', 'history_length',\n",
       "       'num_negative_samples', 'use_contrastive_learning', 'crop_rate',\n",
       "       'insert_rate', 'mask_rate', 'reorder_rate', 'substitute_rate',\n",
       "       'history_length_threshold', 'user_history_augmentation_method',\n",
       "       'batch_size', 'recommend_learning_rate', 'topic_learning_rate',\n",
       "       'using_nash_mtl', 'recommend_weight', 'contrastive_weight',\n",
       "       'topic_weight', 'drop_out', 'epochs_multi_tasks', 'num_steps_show_dev',\n",
       "       'description', 'AUC', 'MRR', 'NDCG@3', 'NDCG@5', 'NDCG@10', 'date'],\n",
       "      dtype='object')"
      ]
     },
     "execution_count": 13,
     "metadata": {},
     "output_type": "execute_result"
    }
   ],
   "source": [
    "df.columns"
   ]
  },
  {
   "cell_type": "code",
   "execution_count": 14,
   "id": "802f46b6",
   "metadata": {},
   "outputs": [],
   "source": [
    "df[['date', 'data_dir', 'post_encoder_method', 'text_encoder_method', 'raw_text_encoder_method', \\\n",
    "    'user_encoder_method', 'history_user_encoder_method', 'use_contrastive_learning', 'user_history_augmentation_method', 'recommend_weight',\\\n",
    "    'AUC', 'MRR', 'NDCG@5', 'NDCG@10']].to_csv('./csv_result.csv')"
   ]
  },
  {
   "cell_type": "code",
   "execution_count": 15,
   "id": "a6d49e18-d04e-483b-94a4-6f4a872854f1",
   "metadata": {},
   "outputs": [],
   "source": [
    "df_test = df[['date', 'data_dir', 'post_encoder_method', 'text_encoder_method', 'raw_text_encoder_method', \\\n",
    "    'user_encoder_method', 'history_user_encoder_method', 'use_contrastive_learning', 'user_history_augmentation_method', 'recommend_weight',\\\n",
    "    'AUC', 'MRR', 'NDCG@5', 'NDCG@10']]"
   ]
  },
  {
   "cell_type": "code",
   "execution_count": 16,
   "id": "9e279280-a2e9-4941-a61a-83ea89eeabb1",
   "metadata": {},
   "outputs": [],
   "source": [
    "df_test = df_test.drop_duplicates(subset=['data_dir', 'post_encoder_method', 'text_encoder_method', 'raw_text_encoder_method', \\\n",
    "    'user_encoder_method', 'history_user_encoder_method', 'use_contrastive_learning', 'user_history_augmentation_method', 'recommend_weight',\\\n",
    "    'AUC', 'MRR', 'NDCG@5', 'NDCG@10'])"
   ]
  },
  {
   "cell_type": "code",
   "execution_count": 17,
   "id": "fcb16fc8-48d4-48ad-9e65-5be119eb8353",
   "metadata": {},
   "outputs": [],
   "source": [
    "def smooth_float(number):\n",
    "    return round(number, 1)"
   ]
  },
  {
   "cell_type": "code",
   "execution_count": 18,
   "id": "e2355cf6-32a7-44dc-9e5b-8c92744c4e7c",
   "metadata": {},
   "outputs": [],
   "source": [
    "df_test['recommend_weight'] = df['recommend_weight'].apply(smooth_float)"
   ]
  },
  {
   "cell_type": "code",
   "execution_count": 25,
   "id": "6ee6a81f-02ec-4b52-af0e-217388367892",
   "metadata": {},
   "outputs": [],
   "source": [
    "df_test.sort_values(['data_dir', 'AUC'], ascending=[True, False]).to_csv('./csv_result_1.csv')"
   ]
  },
  {
   "cell_type": "code",
   "execution_count": 26,
   "id": "fc763f6d-c348-49cf-be1a-97dc56ab6e45",
   "metadata": {},
   "outputs": [
    {
     "data": {
      "text/html": [
       "<div>\n",
       "<style scoped>\n",
       "    .dataframe tbody tr th:only-of-type {\n",
       "        vertical-align: middle;\n",
       "    }\n",
       "\n",
       "    .dataframe tbody tr th {\n",
       "        vertical-align: top;\n",
       "    }\n",
       "\n",
       "    .dataframe thead th {\n",
       "        text-align: right;\n",
       "    }\n",
       "</style>\n",
       "<table border=\"1\" class=\"dataframe\">\n",
       "  <thead>\n",
       "    <tr style=\"text-align: right;\">\n",
       "      <th></th>\n",
       "      <th>date</th>\n",
       "      <th>data_dir</th>\n",
       "      <th>post_encoder_method</th>\n",
       "      <th>text_encoder_method</th>\n",
       "      <th>raw_text_encoder_method</th>\n",
       "      <th>user_encoder_method</th>\n",
       "      <th>history_user_encoder_method</th>\n",
       "      <th>use_contrastive_learning</th>\n",
       "      <th>user_history_augmentation_method</th>\n",
       "      <th>recommend_weight</th>\n",
       "      <th>AUC</th>\n",
       "      <th>MRR</th>\n",
       "      <th>NDCG@5</th>\n",
       "      <th>NDCG@10</th>\n",
       "    </tr>\n",
       "  </thead>\n",
       "  <tbody>\n",
       "  </tbody>\n",
       "</table>\n",
       "</div>"
      ],
      "text/plain": [
       "Empty DataFrame\n",
       "Columns: [date, data_dir, post_encoder_method, text_encoder_method, raw_text_encoder_method, user_encoder_method, history_user_encoder_method, use_contrastive_learning, user_history_augmentation_method, recommend_weight, AUC, MRR, NDCG@5, NDCG@10]\n",
       "Index: []"
      ]
     },
     "execution_count": 26,
     "metadata": {},
     "output_type": "execute_result"
    }
   ],
   "source": [
    "df_test[df_test['use_contrastive_learning'] == False].sort_values(['data_dir', 'raw_text_encoder_method'])"
   ]
  },
  {
   "cell_type": "code",
   "execution_count": 27,
   "id": "c571a3a9-82d1-4b0f-a2d8-51d73044aa54",
   "metadata": {},
   "outputs": [
    {
     "data": {
      "text/html": [
       "<div>\n",
       "<style scoped>\n",
       "    .dataframe tbody tr th:only-of-type {\n",
       "        vertical-align: middle;\n",
       "    }\n",
       "\n",
       "    .dataframe tbody tr th {\n",
       "        vertical-align: top;\n",
       "    }\n",
       "\n",
       "    .dataframe thead th {\n",
       "        text-align: right;\n",
       "    }\n",
       "</style>\n",
       "<table border=\"1\" class=\"dataframe\">\n",
       "  <thead>\n",
       "    <tr style=\"text-align: right;\">\n",
       "      <th></th>\n",
       "      <th>date</th>\n",
       "      <th>data_dir</th>\n",
       "      <th>post_encoder_method</th>\n",
       "      <th>text_encoder_method</th>\n",
       "      <th>raw_text_encoder_method</th>\n",
       "      <th>user_encoder_method</th>\n",
       "      <th>history_user_encoder_method</th>\n",
       "      <th>use_contrastive_learning</th>\n",
       "      <th>user_history_augmentation_method</th>\n",
       "      <th>recommend_weight</th>\n",
       "      <th>AUC</th>\n",
       "      <th>MRR</th>\n",
       "      <th>NDCG@5</th>\n",
       "      <th>NDCG@10</th>\n",
       "    </tr>\n",
       "  </thead>\n",
       "  <tbody>\n",
       "    <tr>\n",
       "      <th>40</th>\n",
       "      <td>2023_07_06 15_30_14</td>\n",
       "      <td>data/version_1/kenh14</td>\n",
       "      <td>TitleAbtractCategorySubcategory</td>\n",
       "      <td>Raw</td>\n",
       "      <td>CNN</td>\n",
       "      <td>History</td>\n",
       "      <td>AdditiveAttention</td>\n",
       "      <td>True</td>\n",
       "      <td>Version1</td>\n",
       "      <td>1.0</td>\n",
       "      <td>0.7966</td>\n",
       "      <td>0.3408</td>\n",
       "      <td>0.4108</td>\n",
       "      <td>0.4957</td>\n",
       "    </tr>\n",
       "    <tr>\n",
       "      <th>58</th>\n",
       "      <td>2023_07_06 16_13_38</td>\n",
       "      <td>data/version_1/kenh14</td>\n",
       "      <td>TitleAbtractCategorySubcategory</td>\n",
       "      <td>Raw</td>\n",
       "      <td>CNN</td>\n",
       "      <td>History</td>\n",
       "      <td>Fastformer</td>\n",
       "      <td>True</td>\n",
       "      <td>Version1</td>\n",
       "      <td>1.0</td>\n",
       "      <td>0.8059</td>\n",
       "      <td>0.3609</td>\n",
       "      <td>0.4320</td>\n",
       "      <td>0.5140</td>\n",
       "    </tr>\n",
       "    <tr>\n",
       "      <th>39</th>\n",
       "      <td>2023_07_06 17_00_34</td>\n",
       "      <td>data/version_1/kenh14</td>\n",
       "      <td>TitleAbtractCategorySubcategory</td>\n",
       "      <td>Raw</td>\n",
       "      <td>CNN</td>\n",
       "      <td>History</td>\n",
       "      <td>MultiHeadSelfAttention</td>\n",
       "      <td>True</td>\n",
       "      <td>Version1</td>\n",
       "      <td>1.0</td>\n",
       "      <td>0.7924</td>\n",
       "      <td>0.3318</td>\n",
       "      <td>0.3930</td>\n",
       "      <td>0.4848</td>\n",
       "    </tr>\n",
       "    <tr>\n",
       "      <th>30</th>\n",
       "      <td>2023_07_06 17_46_48</td>\n",
       "      <td>data/version_1/kenh14</td>\n",
       "      <td>TitleAbtractCategorySubcategory</td>\n",
       "      <td>Raw</td>\n",
       "      <td>CNN</td>\n",
       "      <td>History</td>\n",
       "      <td>Transformer</td>\n",
       "      <td>True</td>\n",
       "      <td>Version1</td>\n",
       "      <td>1.0</td>\n",
       "      <td>0.8174</td>\n",
       "      <td>0.3578</td>\n",
       "      <td>0.4361</td>\n",
       "      <td>0.5206</td>\n",
       "    </tr>\n",
       "    <tr>\n",
       "      <th>38</th>\n",
       "      <td>2023_07_06 18_33_47</td>\n",
       "      <td>data/version_1/kenh14</td>\n",
       "      <td>TitleAbtractCategorySubcategory</td>\n",
       "      <td>Raw</td>\n",
       "      <td>Fastformer</td>\n",
       "      <td>History</td>\n",
       "      <td>AdditiveAttention</td>\n",
       "      <td>True</td>\n",
       "      <td>Version1</td>\n",
       "      <td>1.0</td>\n",
       "      <td>0.8174</td>\n",
       "      <td>0.3776</td>\n",
       "      <td>0.4577</td>\n",
       "      <td>0.5381</td>\n",
       "    </tr>\n",
       "    <tr>\n",
       "      <th>...</th>\n",
       "      <td>...</td>\n",
       "      <td>...</td>\n",
       "      <td>...</td>\n",
       "      <td>...</td>\n",
       "      <td>...</td>\n",
       "      <td>...</td>\n",
       "      <td>...</td>\n",
       "      <td>...</td>\n",
       "      <td>...</td>\n",
       "      <td>...</td>\n",
       "      <td>...</td>\n",
       "      <td>...</td>\n",
       "      <td>...</td>\n",
       "      <td>...</td>\n",
       "    </tr>\n",
       "    <tr>\n",
       "      <th>44</th>\n",
       "      <td>2023_07_19 03_33_53</td>\n",
       "      <td>data/version_1/kenh14</td>\n",
       "      <td>TitleAbtractCategorySubcategory</td>\n",
       "      <td>PreEncoded</td>\n",
       "      <td>MultiHeadSelfAttention</td>\n",
       "      <td>History</td>\n",
       "      <td>Fastformer</td>\n",
       "      <td>True</td>\n",
       "      <td>Version2</td>\n",
       "      <td>0.4</td>\n",
       "      <td>0.8199</td>\n",
       "      <td>0.3812</td>\n",
       "      <td>0.4619</td>\n",
       "      <td>0.5410</td>\n",
       "    </tr>\n",
       "    <tr>\n",
       "      <th>7</th>\n",
       "      <td>2023_07_19 04_14_58</td>\n",
       "      <td>data/version_1/kenh14</td>\n",
       "      <td>TitleAbtractCategorySubcategory</td>\n",
       "      <td>PreEncoded</td>\n",
       "      <td>MultiHeadSelfAttention</td>\n",
       "      <td>History</td>\n",
       "      <td>Fastformer</td>\n",
       "      <td>True</td>\n",
       "      <td>Version2</td>\n",
       "      <td>0.5</td>\n",
       "      <td>0.8118</td>\n",
       "      <td>0.3734</td>\n",
       "      <td>0.4497</td>\n",
       "      <td>0.5259</td>\n",
       "    </tr>\n",
       "    <tr>\n",
       "      <th>37</th>\n",
       "      <td>2023_07_19 04_56_54</td>\n",
       "      <td>data/version_1/kenh14</td>\n",
       "      <td>TitleAbtractCategorySubcategory</td>\n",
       "      <td>PreEncoded</td>\n",
       "      <td>MultiHeadSelfAttention</td>\n",
       "      <td>History</td>\n",
       "      <td>Fastformer</td>\n",
       "      <td>True</td>\n",
       "      <td>Version2</td>\n",
       "      <td>0.6</td>\n",
       "      <td>0.8033</td>\n",
       "      <td>0.3646</td>\n",
       "      <td>0.4353</td>\n",
       "      <td>0.5169</td>\n",
       "    </tr>\n",
       "    <tr>\n",
       "      <th>60</th>\n",
       "      <td>2023_07_19 05_40_49</td>\n",
       "      <td>data/version_1/kenh14</td>\n",
       "      <td>TitleAbtractCategorySubcategory</td>\n",
       "      <td>PreEncoded</td>\n",
       "      <td>MultiHeadSelfAttention</td>\n",
       "      <td>History</td>\n",
       "      <td>Fastformer</td>\n",
       "      <td>True</td>\n",
       "      <td>Version2</td>\n",
       "      <td>0.7</td>\n",
       "      <td>0.8258</td>\n",
       "      <td>0.3918</td>\n",
       "      <td>0.4751</td>\n",
       "      <td>0.5518</td>\n",
       "    </tr>\n",
       "    <tr>\n",
       "      <th>36</th>\n",
       "      <td>2023_07_19 06_20_58</td>\n",
       "      <td>data/version_1/kenh14</td>\n",
       "      <td>TitleAbtractCategorySubcategory</td>\n",
       "      <td>PreEncoded</td>\n",
       "      <td>MultiHeadSelfAttention</td>\n",
       "      <td>History</td>\n",
       "      <td>Fastformer</td>\n",
       "      <td>True</td>\n",
       "      <td>Version2</td>\n",
       "      <td>0.8</td>\n",
       "      <td>0.7979</td>\n",
       "      <td>0.3664</td>\n",
       "      <td>0.4375</td>\n",
       "      <td>0.5146</td>\n",
       "    </tr>\n",
       "  </tbody>\n",
       "</table>\n",
       "<p>96 rows × 14 columns</p>\n",
       "</div>"
      ],
      "text/plain": [
       "                   date               data_dir  \\\n",
       "40  2023_07_06 15_30_14  data/version_1/kenh14   \n",
       "58  2023_07_06 16_13_38  data/version_1/kenh14   \n",
       "39  2023_07_06 17_00_34  data/version_1/kenh14   \n",
       "30  2023_07_06 17_46_48  data/version_1/kenh14   \n",
       "38  2023_07_06 18_33_47  data/version_1/kenh14   \n",
       "..                  ...                    ...   \n",
       "44  2023_07_19 03_33_53  data/version_1/kenh14   \n",
       "7   2023_07_19 04_14_58  data/version_1/kenh14   \n",
       "37  2023_07_19 04_56_54  data/version_1/kenh14   \n",
       "60  2023_07_19 05_40_49  data/version_1/kenh14   \n",
       "36  2023_07_19 06_20_58  data/version_1/kenh14   \n",
       "\n",
       "                post_encoder_method text_encoder_method  \\\n",
       "40  TitleAbtractCategorySubcategory                 Raw   \n",
       "58  TitleAbtractCategorySubcategory                 Raw   \n",
       "39  TitleAbtractCategorySubcategory                 Raw   \n",
       "30  TitleAbtractCategorySubcategory                 Raw   \n",
       "38  TitleAbtractCategorySubcategory                 Raw   \n",
       "..                              ...                 ...   \n",
       "44  TitleAbtractCategorySubcategory          PreEncoded   \n",
       "7   TitleAbtractCategorySubcategory          PreEncoded   \n",
       "37  TitleAbtractCategorySubcategory          PreEncoded   \n",
       "60  TitleAbtractCategorySubcategory          PreEncoded   \n",
       "36  TitleAbtractCategorySubcategory          PreEncoded   \n",
       "\n",
       "   raw_text_encoder_method user_encoder_method history_user_encoder_method  \\\n",
       "40                     CNN             History           AdditiveAttention   \n",
       "58                     CNN             History                  Fastformer   \n",
       "39                     CNN             History      MultiHeadSelfAttention   \n",
       "30                     CNN             History                 Transformer   \n",
       "38              Fastformer             History           AdditiveAttention   \n",
       "..                     ...                 ...                         ...   \n",
       "44  MultiHeadSelfAttention             History                  Fastformer   \n",
       "7   MultiHeadSelfAttention             History                  Fastformer   \n",
       "37  MultiHeadSelfAttention             History                  Fastformer   \n",
       "60  MultiHeadSelfAttention             History                  Fastformer   \n",
       "36  MultiHeadSelfAttention             History                  Fastformer   \n",
       "\n",
       "    use_contrastive_learning user_history_augmentation_method  \\\n",
       "40                      True                         Version1   \n",
       "58                      True                         Version1   \n",
       "39                      True                         Version1   \n",
       "30                      True                         Version1   \n",
       "38                      True                         Version1   \n",
       "..                       ...                              ...   \n",
       "44                      True                         Version2   \n",
       "7                       True                         Version2   \n",
       "37                      True                         Version2   \n",
       "60                      True                         Version2   \n",
       "36                      True                         Version2   \n",
       "\n",
       "    recommend_weight     AUC     MRR  NDCG@5 NDCG@10  \n",
       "40               1.0  0.7966  0.3408  0.4108  0.4957  \n",
       "58               1.0  0.8059  0.3609  0.4320  0.5140  \n",
       "39               1.0  0.7924  0.3318  0.3930  0.4848  \n",
       "30               1.0  0.8174  0.3578  0.4361  0.5206  \n",
       "38               1.0  0.8174  0.3776  0.4577  0.5381  \n",
       "..               ...     ...     ...     ...     ...  \n",
       "44               0.4  0.8199  0.3812  0.4619  0.5410  \n",
       "7                0.5  0.8118  0.3734  0.4497  0.5259  \n",
       "37               0.6  0.8033  0.3646  0.4353  0.5169  \n",
       "60               0.7  0.8258  0.3918  0.4751  0.5518  \n",
       "36               0.8  0.7979  0.3664  0.4375  0.5146  \n",
       "\n",
       "[96 rows x 14 columns]"
      ]
     },
     "execution_count": 27,
     "metadata": {},
     "output_type": "execute_result"
    }
   ],
   "source": [
    "df_test.sort_values('date')"
   ]
  }
 ],
 "metadata": {
  "kernelspec": {
   "display_name": "py38",
   "language": "python",
   "name": "py38"
  },
  "language_info": {
   "codemirror_mode": {
    "name": "ipython",
    "version": 3
   },
   "file_extension": ".py",
   "mimetype": "text/x-python",
   "name": "python",
   "nbconvert_exporter": "python",
   "pygments_lexer": "ipython3",
   "version": "3.8.15"
  }
 },
 "nbformat": 4,
 "nbformat_minor": 5
}
